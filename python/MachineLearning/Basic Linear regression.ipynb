{
 "cells": [
  {
   "cell_type": "markdown",
   "metadata": {
    "slideshow": {
     "slide_type": "slide"
    }
   },
   "source": [
    "# Regression"
   ]
  },
  {
   "cell_type": "markdown",
   "metadata": {
    "slideshow": {
     "slide_type": "slide"
    }
   },
   "source": [
    "## Linear Regression"
   ]
  },
  {
   "cell_type": "markdown",
   "metadata": {
    "slideshow": {
     "slide_type": "slide"
    }
   },
   "source": [
    "### Step 1 : Setup the Environment"
   ]
  },
  {
   "cell_type": "code",
   "execution_count": 2,
   "metadata": {
    "slideshow": {
     "slide_type": "fragment"
    }
   },
   "outputs": [],
   "source": [
    "# Import necessary Libraries\n",
    "import numpy as np\n",
    "import pandas as pd\n",
    "import matplotlib.pyplot as plt\n",
    "import seaborn as sns\n",
    "sns.set()"
   ]
  },
  {
   "cell_type": "markdown",
   "metadata": {
    "slideshow": {
     "slide_type": "slide"
    }
   },
   "source": [
    "### Step 2 : Clean the data and Visually analyse the data"
   ]
  },
  {
   "cell_type": "code",
   "execution_count": 3,
   "metadata": {
    "slideshow": {
     "slide_type": "fragment"
    }
   },
   "outputs": [
    {
     "name": "stdout",
     "output_type": "stream",
     "text": [
      "x =  [9.47479487 1.76446308 7.87282699 1.25159232 5.66694955 9.67777908\n",
      " 2.18037028 0.61821753 7.80157957 7.243186   9.1651553  2.66202985\n",
      " 7.19002151 9.21576455 1.4391546  0.81100953 6.55799845 3.08850747\n",
      " 8.84825004 8.01758901 5.28716712 0.74725383 7.66144558 9.31342303\n",
      " 4.32130254 3.80811414 3.27224057 9.30413536 6.84634345 5.87846664\n",
      " 0.19753176 7.0767995  8.29682145 5.60034608 6.45169126 2.66224873\n",
      " 2.94976203 5.17666192 9.28864321 1.39058004 5.32407083 0.33166634\n",
      " 2.69385525 4.62831217 5.89856544 3.65080685 4.77977899 6.10234097\n",
      " 2.73569941 4.79911979]\n",
      "y =  [17.55995692  2.64736589 14.92979128  0.77612411  9.4864873  17.5459333\n",
      "  3.90750235  0.50103529 15.67463306 12.81387819 18.24546393  5.62880927\n",
      " 13.85836714 19.88247799  0.65962074  0.24254823 11.71031123  4.37795059\n",
      " 17.17026699 15.29741816 11.73119891 -1.06168955 11.92862378 16.95099804\n",
      "  9.90551735  6.63947596  4.77263669 18.05656658 13.53995544 11.06758786\n",
      "  1.14926549 12.58643429 17.27132835  9.76431717 10.49653649  5.48718172\n",
      "  2.7297102   9.15122664 16.59037167  2.6461276  11.08004109  1.20886177\n",
      "  3.999613    9.27125347 10.19212324  7.20318162  8.09503122 12.1024988\n",
      "  5.95574488  9.59699122]\n"
     ]
    }
   ],
   "source": [
    "x = 10 * np.random.random(50)\n",
    "y = 2 * x - 1 + np.random.randn(50)\n",
    "print(\"x = \",x)\n",
    "print(\"y = \",y)"
   ]
  },
  {
   "cell_type": "code",
   "execution_count": 4,
   "metadata": {
    "slideshow": {
     "slide_type": "slide"
    }
   },
   "outputs": [
    {
     "data": {
      "image/png": "[encoded data removed]",
      "text/plain": [
       "<Figure size 432x288 with 1 Axes>"
      ]
     },
     "metadata": {
      "needs_background": "light"
     },
     "output_type": "display_data"
    }
   ],
   "source": [
    "x = 10 * np.random.random(50)\n",
    "y = 2 * x - 1 + np.random.randn(50)\n",
    "sns.scatterplot(x,y)\n",
    "plt.xlabel(\"X - InDependend Variable\")\n",
    "plt.ylabel(\"Y - Dependend Variable\")\n",
    "plt.show()"
   ]
  },
  {
   "cell_type": "markdown",
   "metadata": {
    "slideshow": {
     "slide_type": "slide"
    }
   },
   "source": [
    "### Step 3 : Generate X \"Feature matrix\" and y \"Target vector\""
   ]
  },
  {
   "cell_type": "code",
   "execution_count": 5,
   "metadata": {
    "slideshow": {
     "slide_type": "fragment"
    }
   },
   "outputs": [
    {
     "name": "stdout",
     "output_type": "stream",
     "text": [
      "(50,)\n",
      "1\n",
      "(50,)\n"
     ]
    }
   ],
   "source": [
    "print(x.shape)\n",
    "print(x.ndim)\n",
    "print(y.shape)"
   ]
  },
  {
   "cell_type": "code",
   "execution_count": 6,
   "metadata": {
    "slideshow": {
     "slide_type": "fragment"
    }
   },
   "outputs": [
    {
     "name": "stdout",
     "output_type": "stream",
     "text": [
      "(50, 1)\n"
     ]
    }
   ],
   "source": [
    "# Convert the x vector to X matrix\n",
    "X=x[:,np.newaxis]\n",
    "print(X.shape)"
   ]
  },
  {
   "cell_type": "markdown",
   "metadata": {
    "slideshow": {
     "slide_type": "slide"
    }
   },
   "source": [
    "### Step 4 : Choose a class of model\n",
    "\n",
    "##### -> Linear Regression"
   ]
  },
  {
   "cell_type": "code",
   "execution_count": 7,
   "metadata": {
    "slideshow": {
     "slide_type": "fragment"
    }
   },
   "outputs": [
    {
     "name": "stdout",
     "output_type": "stream",
     "text": [
      "LinearRegression(copy_X=True, fit_intercept=True, n_jobs=None,\n",
      "         normalize=False)\n"
     ]
    }
   ],
   "source": [
    "from sklearn.linear_model import LinearRegression\n",
    "model=LinearRegression()\n",
    "print(model)"
   ]
  },
  {
   "cell_type": "markdown",
   "metadata": {
    "slideshow": {
     "slide_type": "slide"
    }
   },
   "source": [
    "### Step 5 : Fit the model using the labeled data"
   ]
  },
  {
   "cell_type": "code",
   "execution_count": 8,
   "metadata": {
    "slideshow": {
     "slide_type": "fragment"
    }
   },
   "outputs": [
    {
     "data": {
      "text/plain": [
       "LinearRegression(copy_X=True, fit_intercept=True, n_jobs=None,\n",
       "         normalize=False)"
      ]
     },
     "execution_count": 8,
     "metadata": {},
     "output_type": "execute_result"
    }
   ],
   "source": [
    "model.fit(X,y)"
   ]
  },
  {
   "cell_type": "markdown",
   "metadata": {
    "slideshow": {
     "slide_type": "slide"
    }
   },
   "source": [
    "### Step 6 : Predict the new data using unlabeled data"
   ]
  },
  {
   "cell_type": "code",
   "execution_count": 9,
   "metadata": {
    "slideshow": {
     "slide_type": "fragment"
    }
   },
   "outputs": [
    {
     "name": "stdout",
     "output_type": "stream",
     "text": [
      "[ 8.31761626  0.46438146 10.73009897  8.24363268 14.25026873  2.85177915\n",
      " 13.91010931 14.63888271  9.97606535  4.26051942 11.58402716 10.42121095\n",
      "  7.13429074  3.39198261  6.51966476 13.2893815  18.01864939  1.75723325\n",
      " 14.62382584  3.46487864  9.85179183 15.5703956   1.49123612  2.45725714\n",
      "  3.98482966 13.77745596 13.85486713 17.51865097 11.20948205 11.6688464\n",
      "  1.39670806 15.84655325 17.78594263  3.02755226  1.95886383 15.57334019\n",
      " 18.67133739  6.96732167  6.41872792  3.34252099  4.29178124 13.51617666\n",
      "  0.337351    2.90403213 14.52434732  7.06258461 15.88570772  1.93231419\n",
      " -0.23248471  0.18338093]\n"
     ]
    }
   ],
   "source": [
    "y_pred=model.predict(X)\n",
    "print(y_pred)"
   ]
  },
  {
   "cell_type": "markdown",
   "metadata": {
    "slideshow": {
     "slide_type": "slide"
    }
   },
   "source": [
    "### Step 7 : Computer the accuracy of the model"
   ]
  },
  {
   "cell_type": "markdown",
   "metadata": {
    "slideshow": {
     "slide_type": "slide"
    }
   },
   "source": [
    "#### Visual method of accuracy"
   ]
  },
  {
   "cell_type": "code",
   "execution_count": 10,
   "metadata": {
    "slideshow": {
     "slide_type": "fragment"
    }
   },
   "outputs": [
    {
     "data": {
      "image/png": "[encoded data removed]",
      "text/plain": [
       "<Figure size 504x360 with 1 Axes>"
      ]
     },
     "metadata": {
      "needs_background": "light"
     },
     "output_type": "display_data"
    }
   ],
   "source": [
    "plt.figure(figsize=(7,5))\n",
    "plt.scatter(x,y,c=\"Red\",alpha=0.6,label=\"Actual Value\")\n",
    "plt.plot(x,y_pred,linewidth=5,c=\"green\",alpha=0.4,label=\"Predicted Value\")\n",
    "plt.xlabel(\"X - InDependend Variable\",fontsize=18)\n",
    "plt.ylabel(\"Y - Dependend Variable\",fontsize=18)\n",
    "plt.legend(loc=\"best\",fontsize=20)\n",
    "plt.show()"
   ]
  },
  {
   "cell_type": "markdown",
   "metadata": {
    "slideshow": {
     "slide_type": "slide"
    }
   },
   "source": [
    "## Prediction using metric method"
   ]
  },
  {
   "cell_type": "markdown",
   "metadata": {
    "slideshow": {
     "slide_type": "slide"
    }
   },
   "source": [
    "### Mean Absolute Error\n",
    "Mean of the absolute difference between the actual value and the predicted value. \n",
    "\n",
    "\\begin{equation}\n",
    "\\frac{1}{N}\\sum_{i=1}^N |y_i-\\hat{y_i}|\n",
    "\\end{equation}\n",
    "\n",
    ">Note: 0 -> Best"
   ]
  },
  {
   "cell_type": "code",
   "execution_count": 11,
   "metadata": {
    "slideshow": {
     "slide_type": "fragment"
    }
   },
   "outputs": [
    {
     "data": {
      "text/plain": [
       "0.8634700975793974"
      ]
     },
     "execution_count": 11,
     "metadata": {},
     "output_type": "execute_result"
    }
   ],
   "source": [
    "from sklearn.metrics import mean_absolute_error\n",
    "mean_absolute_error(y,y_pred)"
   ]
  },
  {
   "cell_type": "markdown",
   "metadata": {
    "slideshow": {
     "slide_type": "slide"
    }
   },
   "source": [
    "### Mean Squared Error\n",
    "Mean of the square of the difference between the actual value and the predicted value. \n",
    "\n",
    "\\begin{equation}\n",
    "\\frac{1}{N}\\sum_{i=1}^N (y_i-\\hat{y_i})^2\n",
    "\\end{equation}\n",
    "\n",
    ">Note: 0 -> Best"
   ]
  },
  {
   "cell_type": "code",
   "execution_count": 12,
   "metadata": {
    "slideshow": {
     "slide_type": "fragment"
    }
   },
   "outputs": [
    {
     "data": {
      "text/plain": [
       "1.0697557792272512"
      ]
     },
     "execution_count": 12,
     "metadata": {},
     "output_type": "execute_result"
    }
   ],
   "source": [
    "from sklearn.metrics import mean_squared_error\n",
    "mean_squared_error(y, y_pred)"
   ]
  },
  {
   "cell_type": "markdown",
   "metadata": {
    "slideshow": {
     "slide_type": "slide"
    }
   },
   "source": [
    "### Root Mean Squared Error\n",
    "Squareroot of the average of squared difference between the predicted and estimated value\n",
    "\n",
    "\\begin{equation}\n",
    "\\sqrt{\\frac{1}{N}\\sum_{i=1}^N (y_i-\\hat{y_i})^2}\n",
    "\\end{equation}\n",
    "\n",
    ">Note: 0 -> Best"
   ]
  },
  {
   "cell_type": "code",
   "execution_count": 13,
   "metadata": {
    "slideshow": {
     "slide_type": "fragment"
    }
   },
   "outputs": [
    {
     "data": {
      "text/plain": [
       "1.0342899879759309"
      ]
     },
     "execution_count": 13,
     "metadata": {},
     "output_type": "execute_result"
    }
   ],
   "source": [
    "from sklearn.metrics import mean_squared_error\n",
    "np.sqrt(mean_squared_error(y,y_pred))"
   ]
  },
  {
   "cell_type": "markdown",
   "metadata": {
    "slideshow": {
     "slide_type": "slide"
    }
   },
   "source": [
    "### R Squared\n",
    "The total sum of squares (proportional to the variance of the data):\n",
    "\n",
    "\\$ SS_{tot}=\\sum_{i} (y_i-\\hat{y_i})^2 $\n",
    "\n",
    "The regression sum of squares, also called the explained sum of squares:\n",
    "\n",
    "\\$ SS_{reg}=\\sum_{i} (f_i-\\hat{y_i})^2 $\n",
    "\n",
    "The most general definition of the coefficient of determination is\n",
    "\n",
    "\\$ R^2 = \\frac{SS_{reg}}{SS_{tot}} $"
   ]
  },
  {
   "cell_type": "markdown",
   "metadata": {
    "slideshow": {
     "slide_type": "slide"
    }
   },
   "source": [
    "### R Squared\n",
    "\n",
    "- Measure of the best estimate\n",
    "- Coefficient of Determination\n",
    "\n",
    "> Note: 1 -> Best"
   ]
  },
  {
   "cell_type": "code",
   "execution_count": 14,
   "metadata": {
    "slideshow": {
     "slide_type": "fragment"
    }
   },
   "outputs": [
    {
     "data": {
      "text/plain": [
       "0.969029251806494"
      ]
     },
     "execution_count": 14,
     "metadata": {},
     "output_type": "execute_result"
    }
   ],
   "source": [
    "from sklearn.metrics import r2_score\n",
    "r2_score(y, y_pred)"
   ]
  },
  {
   "cell_type": "markdown",
   "metadata": {
    "slideshow": {
     "slide_type": "slide"
    }
   },
   "source": [
    "### Models inbuilt score function\n",
    "Calculates the R^2 values"
   ]
  },
  {
   "cell_type": "code",
   "execution_count": 15,
   "metadata": {
    "slideshow": {
     "slide_type": "fragment"
    }
   },
   "outputs": [
    {
     "data": {
      "text/plain": [
       "0.969029251806494"
      ]
     },
     "execution_count": 15,
     "metadata": {},
     "output_type": "execute_result"
    }
   ],
   "source": [
    "model.score(X,y)"
   ]
  },
  {
   "cell_type": "markdown",
   "metadata": {
    "slideshow": {
     "slide_type": "slide"
    }
   },
   "source": [
    "## Input new data"
   ]
  },
  {
   "cell_type": "code",
   "execution_count": 16,
   "metadata": {
    "slideshow": {
     "slide_type": "fragment"
    }
   },
   "outputs": [
    {
     "data": {
      "text/plain": [
       "array([ 5.09423934,  7.04817718, 12.90999067])"
      ]
     },
     "execution_count": 16,
     "metadata": {},
     "output_type": "execute_result"
    }
   ],
   "source": [
    "xnew=np.array([3,4,7])\n",
    "Xnew=xnew[:,np.newaxis]\n",
    "model.predict(Xnew)"
   ]
  },
  {
   "cell_type": "markdown",
   "metadata": {
    "slideshow": {
     "slide_type": "slide"
    }
   },
   "source": [
    "# Non-linear equations"
   ]
  },
  {
   "cell_type": "code",
   "execution_count": 17,
   "metadata": {
    "slideshow": {
     "slide_type": "slide"
    }
   },
   "outputs": [
    {
     "name": "stdout",
     "output_type": "stream",
     "text": [
      "x =  [3.11829086 7.68249267 9.42746654 4.86512017 2.81796197 9.89941103\n",
      " 6.79277735 8.99841709 1.71164071 2.31381376 7.6716614 ]\n",
      "y =  [ 0.14571305 -0.72903215 -3.64407778 -1.94471607 -1.3119369  -2.40141897\n",
      " -1.52727048  0.55619203  1.29384252 -0.78759182  0.69327922]\n"
     ]
    },
    {
     "data": {
      "image/png": "[encoded data removed]",
      "text/plain": [
       "<Figure size 432x288 with 1 Axes>"
      ]
     },
     "metadata": {
      "needs_background": "light"
     },
     "output_type": "display_data"
    }
   ],
   "source": [
    "x = 10 * np.random.random(100)\n",
    "y = 2 * np.sin(x) - 1 + np.random.randn(100)\n",
    "print(\"x = \",x[:11])\n",
    "print(\"y = \",y[:11])\n",
    "sns.scatterplot(x,y)\n",
    "plt.xlabel(\"X - InDependend Variable\")\n",
    "plt.ylabel(\"Y - Dependend Variable\")\n",
    "plt.show()"
   ]
  },
  {
   "cell_type": "markdown",
   "metadata": {
    "slideshow": {
     "slide_type": "slide"
    }
   },
   "source": [
    "### Predict using the normal Linear Regression"
   ]
  },
  {
   "cell_type": "code",
   "execution_count": 18,
   "metadata": {
    "slideshow": {
     "slide_type": "fragment"
    }
   },
   "outputs": [],
   "source": [
    "X=x[:,np.newaxis] \n",
    "from sklearn.linear_model import LinearRegression\n",
    "model=LinearRegression()\n",
    "model.fit(X,y)\n",
    "xnew=np.linspace(0,10,100)\n",
    "Xnew=xnew[:,np.newaxis]\n",
    "y_pred=model.predict(Xnew)"
   ]
  },
  {
   "cell_type": "code",
   "execution_count": 19,
   "metadata": {
    "slideshow": {
     "slide_type": "slide"
    }
   },
   "outputs": [
    {
     "data": {
      "image/png": "[encoded data removed]",
      "text/plain": [
       "<Figure size 1080x504 with 1 Axes>"
      ]
     },
     "metadata": {
      "needs_background": "light"
     },
     "output_type": "display_data"
    }
   ],
   "source": [
    "plt.figure(figsize=(15,7))\n",
    "plt.scatter(x,y,c=\"Red\",alpha=0.6,label=\"Actual Value\")\n",
    "plt.plot(xnew,y_pred,linewidth=5,c=\"green\",alpha=0.4,label=\"Predicted Value\")\n",
    "plt.xlabel(\"X - InDependend Variable\",fontsize=18)\n",
    "plt.ylabel(\"Y - Dependend Variable\",fontsize=18)\n",
    "plt.legend(loc=\"best\",fontsize=20)\n",
    "plt.show()"
   ]
  },
  {
   "cell_type": "markdown",
   "metadata": {
    "slideshow": {
     "slide_type": "slide"
    }
   },
   "source": [
    "### Calculate the accuracy"
   ]
  },
  {
   "cell_type": "code",
   "execution_count": 20,
   "metadata": {
    "slideshow": {
     "slide_type": "fragment"
    }
   },
   "outputs": [
    {
     "data": {
      "text/plain": [
       "0.0007643403185747522"
      ]
     },
     "execution_count": 20,
     "metadata": {},
     "output_type": "execute_result"
    }
   ],
   "source": [
    "model.score(X,y)"
   ]
  },
  {
   "cell_type": "code",
   "execution_count": 21,
   "metadata": {
    "slideshow": {
     "slide_type": "fragment"
    }
   },
   "outputs": [
    {
     "data": {
      "text/plain": [
       "0.07643403185747522"
      ]
     },
     "execution_count": 21,
     "metadata": {},
     "output_type": "execute_result"
    }
   ],
   "source": [
    "model.score(X,y)*100"
   ]
  },
  {
   "cell_type": "markdown",
   "metadata": {
    "slideshow": {
     "slide_type": "slide"
    }
   },
   "source": [
    "## Polynomial Regression"
   ]
  },
  {
   "cell_type": "code",
   "execution_count": 22,
   "metadata": {
    "slideshow": {
     "slide_type": "fragment"
    }
   },
   "outputs": [],
   "source": [
    "from sklearn.preprocessing import PolynomialFeatures"
   ]
  },
  {
   "cell_type": "code",
   "execution_count": 23,
   "metadata": {
    "slideshow": {
     "slide_type": "fragment"
    }
   },
   "outputs": [
    {
     "data": {
      "text/plain": [
       "array([[  1.,   2.,   4.,   8.,  16.],\n",
       "       [  1.,   3.,   9.,  27.,  81.],\n",
       "       [  1.,   4.,  16.,  64., 256.]])"
      ]
     },
     "execution_count": 23,
     "metadata": {},
     "output_type": "execute_result"
    }
   ],
   "source": [
    "dummy=np.array([2,3,4])\n",
    "poly=PolynomialFeatures(degree=4)\n",
    "poly.fit_transform(dummy[:,np.newaxis])"
   ]
  },
  {
   "cell_type": "markdown",
   "metadata": {
    "slideshow": {
     "slide_type": "slide"
    }
   },
   "source": [
    "### Transform our actual data"
   ]
  },
  {
   "cell_type": "code",
   "execution_count": 24,
   "metadata": {
    "slideshow": {
     "slide_type": "fragment"
    }
   },
   "outputs": [
    {
     "name": "stdout",
     "output_type": "stream",
     "text": [
      "(100, 4)\n",
      "[[  1.           3.11829086   9.7237379   30.32144302]\n",
      " [  1.           7.68249267  59.02069364 453.42604635]\n",
      " [  1.           9.42746654  88.87712535 837.88612539]\n",
      " [  1.           4.86512017  23.66939422 115.15444712]\n",
      " [  1.           2.81796197   7.94090967  22.37718145]\n",
      " [  1.           9.89941103  97.99833876 970.12583568]\n",
      " [  1.           6.79277735  46.14182413 313.43113784]\n",
      " [  1.           8.99841709  80.9715101  728.61542016]\n",
      " [  1.           1.71164071   2.92971392   5.01461763]\n",
      " [  1.           2.31381376   5.35373411  12.38754364]]\n"
     ]
    }
   ],
   "source": [
    "poly=PolynomialFeatures(degree=3)\n",
    "poly_out=poly.fit_transform(X)\n",
    "print(poly_out.shape)\n",
    "print(poly_out[:10])"
   ]
  },
  {
   "cell_type": "markdown",
   "metadata": {
    "slideshow": {
     "slide_type": "slide"
    }
   },
   "source": [
    "### Ouput of Polynomial features are fitted to normal Linear Regression"
   ]
  },
  {
   "cell_type": "code",
   "execution_count": 25,
   "metadata": {
    "slideshow": {
     "slide_type": "fragment"
    }
   },
   "outputs": [],
   "source": [
    "model=LinearRegression()\n",
    "model.fit(poly_out,y)\n",
    "xnew=np.linspace(0,10,100)\n",
    "Xnew=xnew[:,np.newaxis]\n",
    "poly=PolynomialFeatures(degree=3)\n",
    "poly_out_new=poly.fit_transform(Xnew)\n",
    "y_pred=model.predict(poly_out_new)"
   ]
  },
  {
   "cell_type": "code",
   "execution_count": 26,
   "metadata": {
    "slideshow": {
     "slide_type": "slide"
    }
   },
   "outputs": [
    {
     "data": {
      "image/png": "[encoded data removed]",
      "text/plain": [
       "<Figure size 1080x504 with 1 Axes>"
      ]
     },
     "metadata": {
      "needs_background": "light"
     },
     "output_type": "display_data"
    }
   ],
   "source": [
    "plt.figure(figsize=(15,7))\n",
    "plt.scatter(x,y,c=\"Red\",alpha=0.6,label=\"Actual Value\")\n",
    "plt.plot(xnew,y_pred,linewidth=5,c=\"green\",alpha=0.4,label=\"Predicted Value\")\n",
    "plt.xlabel(\"X - InDependend Variable\",fontsize=18)\n",
    "plt.ylabel(\"Y - Dependend Variable\",fontsize=18)\n",
    "plt.legend(loc=\"best\",fontsize=20)\n",
    "plt.show()"
   ]
  },
  {
   "cell_type": "markdown",
   "metadata": {
    "slideshow": {
     "slide_type": "slide"
    }
   },
   "source": [
    "## Accuracy score"
   ]
  },
  {
   "cell_type": "code",
   "execution_count": 27,
   "metadata": {
    "slideshow": {
     "slide_type": "fragment"
    }
   },
   "outputs": [
    {
     "data": {
      "text/plain": [
       "12.37669357106217"
      ]
     },
     "execution_count": 27,
     "metadata": {},
     "output_type": "execute_result"
    }
   ],
   "source": [
    "model.score(poly_out,y)*100"
   ]
  },
  {
   "cell_type": "markdown",
   "metadata": {
    "slideshow": {
     "slide_type": "slide"
    }
   },
   "source": [
    "# Automate the polynomial degree"
   ]
  },
  {
   "cell_type": "code",
   "execution_count": 28,
   "metadata": {
    "slideshow": {
     "slide_type": "slide"
    }
   },
   "outputs": [
    {
     "name": "stdout",
     "output_type": "stream",
     "text": [
      "Degree : 2 Accuracy score -> 6.24316882837962\n",
      "Degree : 3 Accuracy score -> 12.37669357106217\n",
      "Degree : 4 Accuracy score -> 60.587736811223756\n",
      "Degree : 5 Accuracy score -> 60.59627938224499\n",
      "Degree : 6 Accuracy score -> 64.32538015851027\n",
      "Degree : 7 Accuracy score -> 64.38178043314406\n",
      "Degree : 8 Accuracy score -> 64.57041095938654\n",
      "Degree : 9 Accuracy score -> 64.61436483581447\n",
      "Degree : 10 Accuracy score -> 64.67734461736526\n",
      "Degree : 11 Accuracy score -> 66.01402441134294\n",
      "Degree : 12 Accuracy score -> 66.06678421743143\n",
      "Degree : 13 Accuracy score -> 66.13515895363989\n",
      "Degree : 14 Accuracy score -> 65.67795240713174\n",
      "Degree : 15 Accuracy score -> 65.68094542125777\n",
      "Degree : 16 Accuracy score -> 65.33779086380727\n",
      "Degree : 17 Accuracy score -> 63.86109907389416\n",
      "Degree : 18 Accuracy score -> 63.699658466206444\n",
      "Degree : 19 Accuracy score -> 63.20630321963998\n"
     ]
    }
   ],
   "source": [
    "deg,acc=[],[]\n",
    "for i in np.arange(2,20):\n",
    "    poly=PolynomialFeatures(degree=i)\n",
    "    poly_out=poly.fit_transform(X)\n",
    "    model=LinearRegression()\n",
    "    model.fit(poly_out,y)\n",
    "    deg.append(i)\n",
    "    acc.append(model.score(poly_out,y)*100)\n",
    "    print(\"Degree :\",deg[-1],\"Accuracy score ->\",acc[-1])\n",
    "bha=pd.DataFrame({\"Degree\":deg,\"Accuracy\":acc})"
   ]
  },
  {
   "cell_type": "code",
   "execution_count": 29,
   "metadata": {
    "slideshow": {
     "slide_type": "slide"
    }
   },
   "outputs": [
    {
     "data": {
      "image/png": "[encoded data removed]",
      "text/plain": [
       "<Figure size 1080x504 with 1 Axes>"
      ]
     },
     "metadata": {
      "needs_background": "light"
     },
     "output_type": "display_data"
    }
   ],
   "source": [
    "plt.figure(figsize=(15,7))\n",
    "sns.lineplot(data=bha,x=\"Degree\",y=\"Accuracy\")\n",
    "plt.show()"
   ]
  },
  {
   "cell_type": "code",
   "execution_count": 30,
   "metadata": {
    "slideshow": {
     "slide_type": "slide"
    }
   },
   "outputs": [
    {
     "name": "stdout",
     "output_type": "stream",
     "text": [
      "64.32538015851027\n"
     ]
    }
   ],
   "source": [
    "degr=6\n",
    "poly=PolynomialFeatures(degree=degr)\n",
    "poly_out=poly.fit_transform(X)\n",
    "model=LinearRegression()\n",
    "model.fit(poly_out,y)\n",
    "xnew=np.linspace(0,10,100)\n",
    "Xnew=xnew[:,np.newaxis]\n",
    "poly=PolynomialFeatures(degree=degr)\n",
    "poly_out_new=poly.fit_transform(Xnew)\n",
    "y_pred=model.predict(poly_out_new)\n",
    "print(model.score(poly_out,y)*100)"
   ]
  },
  {
   "cell_type": "code",
   "execution_count": 31,
   "metadata": {
    "slideshow": {
     "slide_type": "slide"
    }
   },
   "outputs": [
    {
     "data": {
      "image/png": "[encoded data removed]",
      "text/plain": [
       "<Figure size 1080x504 with 1 Axes>"
      ]
     },
     "metadata": {
      "needs_background": "light"
     },
     "output_type": "display_data"
    }
   ],
   "source": [
    "plt.figure(figsize=(15,7))\n",
    "plt.scatter(x,y,c=\"Red\",alpha=0.6,label=\"Actual Value\")\n",
    "plt.plot(xnew,y_pred,linewidth=5,c=\"green\",alpha=0.4,label=\"Predicted Value\")\n",
    "plt.xlabel(\"X - InDependend Variable\",fontsize=18)\n",
    "plt.ylabel(\"Y - Dependend Variable\",fontsize=18)\n",
    "plt.legend(loc=\"best\",fontsize=20)\n",
    "plt.show()"
   ]
  },
  {
   "cell_type": "code",
   "execution_count": 32,
   "metadata": {
    "slideshow": {
     "slide_type": "slide"
    }
   },
   "outputs": [
    {
     "name": "stdout",
     "output_type": "stream",
     "text": [
      "Model Coeffients [ 0.00000000e+00 -1.32652285e-01  2.15400339e+00 -1.48166537e+00\n",
      "  3.42664755e-01 -3.25555956e-02  1.09405678e-03]\n",
      "Model Intercept -0.4141329867164147\n"
     ]
    }
   ],
   "source": [
    "print(\"Model Coeffients\",model.coef_)\n",
    "print(\"Model Intercept\",model.intercept_)"
   ]
  },
  {
   "cell_type": "markdown",
   "metadata": {
    "slideshow": {
     "slide_type": "slide"
    }
   },
   "source": [
    "# Questions ??"
   ]
  }
 ],
 "metadata": {
  "kernelspec": {
   "display_name": "Python 3",
   "language": "python",
   "name": "python3"
  },
  "language_info": {
   "codemirror_mode": {
    "name": "ipython",
    "version": 3
   },
   "file_extension": ".py",
   "mimetype": "text/x-python",
   "name": "python",
   "nbconvert_exporter": "python",
   "pygments_lexer": "ipython3",
   "version": "3.7.0"
  }
 },
 "nbformat": 4,
 "nbformat_minor": 2
}
