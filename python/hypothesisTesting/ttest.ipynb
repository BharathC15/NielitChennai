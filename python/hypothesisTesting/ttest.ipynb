{
 "cells": [
  {
   "cell_type": "markdown",
   "metadata": {},
   "source": [
    "# Student T-test"
   ]
  },
  {
   "cell_type": "code",
   "execution_count": 3,
   "metadata": {},
   "outputs": [],
   "source": [
    "import numpy as np\n",
    "import pandas as pd\n",
    "import matplotlib.pyplot as plt\n",
    "import seaborn as sns"
   ]
  },
  {
   "cell_type": "markdown",
   "metadata": {},
   "source": [
    "Q. Is the Mean of the sample (1,2,3,4,5) equal to the population mean of 3.5 with confidence level of 95 percentage"
   ]
  },
  {
   "cell_type": "code",
   "execution_count": 2,
   "metadata": {},
   "outputs": [],
   "source": [
    "# Import t distribution\n",
    "from scipy.stats import t"
   ]
  },
  {
   "cell_type": "code",
   "execution_count": 3,
   "metadata": {},
   "outputs": [
    {
     "name": "stdout",
     "output_type": "stream",
     "text": [
      "Sample values [1 2 3 4 5]\n"
     ]
    }
   ],
   "source": [
    "sample=np.array([1,2,3,4,5])\n",
    "print(\"Sample values\",sample)"
   ]
  },
  {
   "cell_type": "markdown",
   "metadata": {},
   "source": [
    "Null Hypothesis\n",
    "\n",
    "$ H_0 : \\mu = 3.5 $\n",
    "\n",
    "Alternative Hypothesis\n",
    "\n",
    "$ H_1 :\\mu \\neq 3.5$"
   ]
  },
  {
   "cell_type": "code",
   "execution_count": 4,
   "metadata": {},
   "outputs": [
    {
     "name": "stdout",
     "output_type": "stream",
     "text": [
      "Population Mean 3.5\n",
      "No of Samples 5\n",
      "Sample Mean 3.0\n",
      "Sample Standard Deviation 1.5811388300841898\n",
      "Degree of Freedome 4\n",
      "Confidence level 0.95\n",
      "Significant level 0.05\n"
     ]
    }
   ],
   "source": [
    "pop_mean=3.5\n",
    "sample_mean=np.mean(sample)\n",
    "sample_std=np.std(sample,ddof=1)\n",
    "n=len(sample)\n",
    "dof=n-1\n",
    "cl=0.95\n",
    "significant=0.05\n",
    "print(\"Population Mean\",pop_mean)\n",
    "print(\"No of Samples\",n)\n",
    "print(\"Sample Mean\",sample_mean)\n",
    "print(\"Sample Standard Deviation\",sample_std)\n",
    "print(\"Degree of Freedome\",dof)\n",
    "print(\"Confidence level\",cl)\n",
    "print(\"Significant level\",significant)"
   ]
  },
  {
   "cell_type": "markdown",
   "metadata": {},
   "source": [
    "### To find the T statistics\n",
    "\n",
    "$\\Large t=\\frac{\\bar{x} - \\mu}{\\frac{s}{\\sqrt{n}}}$\n",
    "\n",
    "$\\bar{x}$ - Sample Mean\n",
    "\n",
    "$\\mu$ - Population Mean\n",
    "\n",
    "$s$ - Standard deviation of population\n",
    "\n",
    "$n$ - Sample size"
   ]
  },
  {
   "cell_type": "code",
   "execution_count": 5,
   "metadata": {},
   "outputs": [
    {
     "name": "stdout",
     "output_type": "stream",
     "text": [
      "T Statistics is -0.7071067811865475\n"
     ]
    }
   ],
   "source": [
    "tstatistics=(sample_mean-pop_mean)/(sample_std/np.sqrt(n))\n",
    "print(\"T Statistics is\",tstatistics)"
   ]
  },
  {
   "cell_type": "markdown",
   "metadata": {},
   "source": [
    "### Calculating T Critical Values"
   ]
  },
  {
   "cell_type": "code",
   "execution_count": 6,
   "metadata": {},
   "outputs": [
    {
     "name": "stdout",
     "output_type": "stream",
     "text": [
      "Critical Values are  -2.7764451051977996 2.7764451051977996\n"
     ]
    }
   ],
   "source": [
    "tcritical_l=t.ppf(q=significant/2,df=dof)\n",
    "tcritical_u=-tcritical_l\n",
    "print(\"Critical Values are \",tcritical_l,tcritical_u)"
   ]
  },
  {
   "cell_type": "code",
   "execution_count": 7,
   "metadata": {},
   "outputs": [
    {
     "name": "stdout",
     "output_type": "stream",
     "text": [
      "Fail to reject the Null hypothesis\n"
     ]
    }
   ],
   "source": [
    "if tstatistics<tcritical_l or tstatistics>tcritical_u:\n",
    "    print(\"Reject the Null hypothesis\")\n",
    "else:\n",
    "    print(\"Fail to reject the Null hypothesis\")"
   ]
  },
  {
   "cell_type": "code",
   "execution_count": 8,
   "metadata": {},
   "outputs": [
    {
     "name": "stdout",
     "output_type": "stream",
     "text": [
      "pvalue 0.5185185185185183\n",
      "Fail to reject the Null hypothesis\n"
     ]
    }
   ],
   "source": [
    "pvalue=2*t.cdf(tstatistics,df=dof)\n",
    "print(\"pvalue\",pvalue)\n",
    "if pvalue<0.05:\n",
    "    print(\"Reject the Null hypothesis\")\n",
    "else:\n",
    "    print(\"Fail to reject the Null hypothesis\")"
   ]
  },
  {
   "cell_type": "markdown",
   "metadata": {},
   "source": [
    "### Standard Error\n",
    "\n",
    "$ S.E.=\\frac{s}{\\sqrt(n)} $\n",
    "\n",
    "s - Sample SD\n",
    "\n",
    "n - Number of samples"
   ]
  },
  {
   "cell_type": "code",
   "execution_count": 9,
   "metadata": {},
   "outputs": [
    {
     "name": "stdout",
     "output_type": "stream",
     "text": [
      "Standard Error 0.7071067811865476\n"
     ]
    }
   ],
   "source": [
    "SE=sample_std/np.sqrt(n)\n",
    "print(\"Standard Error\",SE)"
   ]
  },
  {
   "cell_type": "markdown",
   "metadata": {},
   "source": [
    "### Confidence Interval \n",
    "\n",
    "$C.I. =\\bar{x} \\pm SE * Tcritical_\\frac{\\alpha}{2}$"
   ]
  },
  {
   "cell_type": "code",
   "execution_count": 10,
   "metadata": {},
   "outputs": [
    {
     "name": "stdout",
     "output_type": "stream",
     "text": [
      "Confidence Interval [1.03675684 4.96324316]\n"
     ]
    }
   ],
   "source": [
    "print(\"Confidence Interval\",sample_mean+(SE)*np.array([tcritical_l,tcritical_u]))"
   ]
  },
  {
   "cell_type": "markdown",
   "metadata": {},
   "source": [
    "## Single sample T Test using ttest_1samp method"
   ]
  },
  {
   "cell_type": "code",
   "execution_count": 4,
   "metadata": {},
   "outputs": [],
   "source": [
    "from scipy.stats import ttest_1samp"
   ]
  },
  {
   "cell_type": "code",
   "execution_count": 17,
   "metadata": {},
   "outputs": [
    {
     "name": "stdout",
     "output_type": "stream",
     "text": [
      "Test Satistics -0.7071067811865475\n",
      "pvalue 0.5185185185185183\n",
      "Fail to reject the Null hypothesis\n"
     ]
    }
   ],
   "source": [
    "tstats,pvalue=ttest_1samp(sample, pop_mean)\n",
    "print(\"Test Satistics\",tstats)\n",
    "print(\"pvalue\",pvalue)\n",
    "if pvalue<0.05:\n",
    "    print(\"Reject the Null hypothesis\")\n",
    "else:\n",
    "    print(\"Fail to reject the Null hypothesis\")"
   ]
  },
  {
   "cell_type": "code",
   "execution_count": 18,
   "metadata": {},
   "outputs": [
    {
     "data": {
      "text/plain": [
       "(1.036756838522439, 4.9632431614775605)"
      ]
     },
     "execution_count": 18,
     "metadata": {},
     "output_type": "execute_result"
    }
   ],
   "source": [
    "t.interval(0.95,dof,loc=sample_mean,scale=SE)"
   ]
  },
  {
   "cell_type": "markdown",
   "metadata": {},
   "source": [
    "# Using SciPy Package"
   ]
  },
  {
   "cell_type": "markdown",
   "metadata": {},
   "source": [
    "### One Sample T test"
   ]
  },
  {
   "cell_type": "code",
   "execution_count": 19,
   "metadata": {},
   "outputs": [],
   "source": [
    "from scipy.stats import ttest_1samp"
   ]
  },
  {
   "cell_type": "code",
   "execution_count": 20,
   "metadata": {},
   "outputs": [
    {
     "name": "stdout",
     "output_type": "stream",
     "text": [
      "[3.9143694  5.99734545 5.2829785  3.49370529 4.42139975 6.65143654\n",
      " 2.57332076 4.57108737 6.26593626 4.1332596  4.32111385 4.90529103\n",
      " 6.49138963 4.361098   4.55601804 4.56564872 7.20593008 7.18678609\n",
      " 6.0040539  5.3861864 ]\n"
     ]
    }
   ],
   "source": [
    "np.random.seed(123) # fix seed to get the same result\n",
    "sample1=np.random.normal(5,1,20) # 20 samples following normal with mean 5 and sd 1\n",
    "print(sample1)"
   ]
  },
  {
   "cell_type": "code",
   "execution_count": 21,
   "metadata": {},
   "outputs": [
    {
     "name": "stdout",
     "output_type": "stream",
     "text": [
      "5.114417731955291\n"
     ]
    }
   ],
   "source": [
    "sample1_mean=np.mean(sample1)\n",
    "print(sample1_mean)"
   ]
  },
  {
   "cell_type": "code",
   "execution_count": 22,
   "metadata": {},
   "outputs": [
    {
     "name": "stdout",
     "output_type": "stream",
     "text": [
      "T Statistics 0.4069271634557178\n",
      "P value 0.6886090948822811\n"
     ]
    }
   ],
   "source": [
    "#One sample t-test\n",
    "#To check whether the sample's mean is equal to 5\n",
    "tstatistics, pvalue = ttest_1samp(sample1, 5)\n",
    "print(\"T Statistics\",tstatistics)\n",
    "print(\"P value\",pvalue)"
   ]
  },
  {
   "cell_type": "code",
   "execution_count": 23,
   "metadata": {},
   "outputs": [
    {
     "name": "stdout",
     "output_type": "stream",
     "text": [
      "T Statistics -6.706081572195973\n",
      "P value 2.071516562764798e-06\n",
      "\n",
      "Reject the Null Hypothesis\n"
     ]
    }
   ],
   "source": [
    "# Same ttest\n",
    "# Same sample But is its mean equal to 7\n",
    "np.random.seed(123)\n",
    "sample1=np.random.normal(5,1,20)\n",
    "tstatistics, pvalue = ttest_1samp(sample1, 7)\n",
    "print(\"T Statistics\",tstatistics)\n",
    "print(\"P value\",pvalue)\n",
    "if pvalue<0.05:\n",
    "    print(\"\\nReject the Null Hypothesis\")\n",
    "else:\n",
    "    print(\"\\nFails to reject the Null Hypothesis\")"
   ]
  },
  {
   "cell_type": "markdown",
   "metadata": {},
   "source": [
    "### Two Sampled T test"
   ]
  },
  {
   "cell_type": "code",
   "execution_count": 24,
   "metadata": {},
   "outputs": [],
   "source": [
    "from scipy.stats import ttest_ind"
   ]
  },
  {
   "cell_type": "code",
   "execution_count": 25,
   "metadata": {},
   "outputs": [
    {
     "name": "stdout",
     "output_type": "stream",
     "text": [
      "Sample1 [4.59529234 5.27894334 4.28056128 4.2442697  6.76578057 6.19340583\n",
      " 4.89290788 5.08174615 5.56902257 6.04643474 5.80718936 3.50377889\n",
      " 5.07499163 5.02891288 6.15291684 5.68642934 2.79836269 4.42815746\n",
      " 6.46902531 4.36143026]\n",
      "Sample2 [4.46025855 5.47698501 8.24894392 3.97877248 4.4229127  5.12412128\n",
      " 5.30261356 5.52377207 5.00094028 6.34380979 4.28645601 4.16884646\n",
      " 2.62976835 3.13923921 4.1392426  5.56014529 3.73406551 5.11982712\n",
      " 3.93648755 5.33288272]\n"
     ]
    }
   ],
   "source": [
    "np.random.seed(12345)\n",
    "sample1=np.random.normal(4.8,1,20)\n",
    "sample2=np.random.normal(5.0,1,20)\n",
    "print(\"Sample1\",sample1)\n",
    "print(\"Sample2\",sample2)"
   ]
  },
  {
   "cell_type": "code",
   "execution_count": 26,
   "metadata": {},
   "outputs": [
    {
     "name": "stdout",
     "output_type": "stream",
     "text": [
      "Mean of Sample1 5.11297795308501\n",
      "Mean of Sample2 4.796504523135516\n"
     ]
    }
   ],
   "source": [
    "print(\"Mean of Sample1\",np.mean(sample1))\n",
    "print(\"Mean of Sample2\",np.mean(sample2))"
   ]
  },
  {
   "cell_type": "code",
   "execution_count": 27,
   "metadata": {},
   "outputs": [
    {
     "name": "stdout",
     "output_type": "stream",
     "text": [
      "T Statistics -6.706081572195973\n",
      "P value 2.071516562764798e-06\n"
     ]
    }
   ],
   "source": [
    "print(\"T Statistics\",tstatistics)\n",
    "print(\"P value\",pvalue)"
   ]
  },
  {
   "cell_type": "code",
   "execution_count": 28,
   "metadata": {},
   "outputs": [
    {
     "name": "stdout",
     "output_type": "stream",
     "text": [
      "Mean of Sample1 4.814417731955291\n",
      "Mean of Sample2 5.0188216015708464\n",
      "\n",
      "T Statistics -0.5481788436227369\n",
      "P value 0.5867752732889268\n",
      "\n",
      "Fails to reject the Null Hypothesis\n"
     ]
    }
   ],
   "source": [
    "# Same ttest\n",
    "# Same sample But with different means\n",
    "np.random.seed(123)\n",
    "sample1=np.random.normal(4.7,1,20)\n",
    "sample2=np.random.normal(5.3,1,20)\n",
    "print(\"Mean of Sample1\",np.mean(sample1))\n",
    "print(\"Mean of Sample2\",np.mean(sample2))\n",
    "tstatistics, pvalue = ttest_ind(sample1,sample2)\n",
    "print(\"\\nT Statistics\",tstatistics)\n",
    "print(\"P value\",pvalue)\n",
    "if pvalue<0.05:\n",
    "    print(\"\\nReject the Null Hypothesis\")\n",
    "else:\n",
    "    print(\"\\nFails to reject the Null Hypothesis\")"
   ]
  }
 ],
 "metadata": {
  "kernelspec": {
   "display_name": "Python 3",
   "language": "python",
   "name": "python3"
  },
  "language_info": {
   "codemirror_mode": {
    "name": "ipython",
    "version": 3
   },
   "file_extension": ".py",
   "mimetype": "text/x-python",
   "name": "python",
   "nbconvert_exporter": "python",
   "pygments_lexer": "ipython3",
   "version": "3.7.0"
  }
 },
 "nbformat": 4,
 "nbformat_minor": 2
}
